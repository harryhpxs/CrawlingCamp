{
 "cells": [
  {
   "cell_type": "markdown",
   "metadata": {},
   "source": [
    "## Task 4\n",
    "Ref:\n",
    "1. https://blog.csdn.net/naonao77/article/details/88316754"
   ]
  },
  {
   "cell_type": "markdown",
   "metadata": {},
   "source": [
    "### 1. 使用Selenium打开丁香园帖子，并抓取页面所有用户基本信息与回复帖子内容"
   ]
  },
  {
   "cell_type": "code",
   "execution_count": 9,
   "metadata": {},
   "outputs": [],
   "source": [
    "import requests, time\n",
    "from selenium import webdriver\n",
    "from lxml import etree\n",
    "\n",
    "browser = webdriver.Chrome()\n",
    "url = 'https://auth.dxy.cn/accounts/login?service=http%3A%2F%2Fwww.dxy.cn%2Fbbs%2Fthread%2F626626'\n",
    "browser.get(url)\n",
    "time.sleep(5)\n",
    "\n",
    "# 窗口最大化\n",
    "browser.maximize_window()\n",
    "time.sleep(1)\n",
    "\n",
    "# 切换到账号密码登录框\n",
    "switch = 'document.querySelector(\"#j_loginTab1\").style.display=\"none\";'\n",
    "browser.execute_script(switch)\n",
    "time.sleep(1)\n",
    "switch = 'document.querySelector(\"#j_loginTab2\").style.display=\"block\";'\n",
    "browser.execute_script(switch)\n",
    "time.sleep(1)\n",
    "\n",
    "# 填入账号密码\n",
    "input_name = browser.find_element_by_name('username')\n",
    "input_name.clear()\n",
    "input_name.send_keys('xxxxxx@mail.com')\n",
    "input_pass = browser.find_element_by_name('password')\n",
    "input_pass.clear()\n",
    "input_pass.send_keys('##########')\n",
    "time.sleep(1)\n",
    "browser.find_element_by_xpath('//*[@class=\"form__button\"]/button').click()\n",
    "time.sleep(5)"
   ]
  },
  {
   "cell_type": "code",
   "execution_count": null,
   "metadata": {},
   "outputs": [],
   "source": [
    "cookie = browser.get_cookies()\n",
    "cookie_dict = {i['name']:i['value'] for i in cookie}\n",
    "\n",
    "#转到抓取页面\n",
    "browser.get(\"http://www.dxy.cn/bbs/thread/626626\"); \n",
    "html = browser.page_source\n",
    "tree = etree.HTML(html)\n",
    "user = tree.xpath('//div[@id=\"postcontainer\"]//div[@class=\"auth\"]/a/text()')\n",
    "content = tree.xpath('//td[@class=\"postbody\"]')\n",
    "\n",
    "for i in range(0, len(user)):\n",
    "    result = user[i].strip() + \":\" + content[i].xpath('string(.)').strip()\n",
    "    #写入文件\n",
    "    dir_file = open(\"DXY_records.txt\",'a', encoding=\"utf-8\")\n",
    "    dir_file.write(result + \"\\n\")\n",
    "    dir_file.write('-' * 80 + \"\\n\")\n",
    "    dir_file.close()\n",
    "\n",
    "print('*' * 5 +\"抓取结束\"+'*' * 5)"
   ]
  }
 ],
 "metadata": {
  "kernelspec": {
   "display_name": "tensorflow_gpu",
   "language": "python",
   "name": "tensorflow_gpu"
  },
  "language_info": {
   "codemirror_mode": {
    "name": "ipython",
    "version": 3
   },
   "file_extension": ".py",
   "mimetype": "text/x-python",
   "name": "python",
   "nbconvert_exporter": "python",
   "pygments_lexer": "ipython3",
   "version": "3.6.8"
  }
 },
 "nbformat": 4,
 "nbformat_minor": 2
}
